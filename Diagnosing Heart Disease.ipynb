{
 "cells": [
  {
   "cell_type": "markdown",
   "metadata": {
    "id": "rn1TbNWJ0PRw"
   },
   "source": [
    "# **Veri Analizi**\n"
   ]
  },
  {
   "cell_type": "markdown",
   "metadata": {
    "id": "R_PEuXWStmbb"
   },
   "source": [
    "## *Veri Setinin Tanımı:*\n",
    "\n",
    "---\n",
    "\n"
   ]
  },
  {
   "cell_type": "markdown",
   "metadata": {
    "id": "EvgCqmcd0zwJ"
   },
   "source": [
    "Bu veri seti, 21 doğrusal değerli içerir.\n",
    "\n",
    "Bu veri seti, bir hastanede doğrudan ve manuel olarak hastaların bilgilerinden hazırlanmıştır. Tüm bu veriler, Irak'ın Erbil şehrinde bulunan özel bir hastane ve kalp merkezi olan Medical Help Center'da toplanmıştır. Bu veri setini oluşturmanın temel amacı, bir hastanın kalp hastalığından muzdarip olup olmadığını tahmin etmek için yerli hastaların kalp sorunları hakkındaki bilgileri üzerinde çalışmaktır. İlk olarak, doktora gelen hastalar için veriler asistan doktorlar ve kardiyologlar tarafından manuel olarak kağıt sayfalara yazılmıştır. Daha sonra tüm veriler araştırmacı tarafından çok dikkatli ve doğru bir şekilde excel dosyasına kaydedilir. Toplanan veriler beş kategoriye ayrılmıştır. Bazıları hastanın demografik bilgileri, bazıları hastanın öyküsü, bazıları fizik muayene ve semptomatik, bazıları tıbbi laboratuvar testleri ve bazıları da tanısal özelliklerdir.\n",
    "\n",
    "Veri setinin özellikleri tıp doktorlarının tavsiyelerinden seçilmiştir. Kalp hastalığı ile ilgili etkili özellikler için araştırma makalelerinin önerileri de dikkate alınır. Kardiyovasküler hastalığa katkıda bulunan ortak faktörler veya özellikler tanımlanmıştır. \"Hedef\" alanı, hastada kalp hastalığının varlığına atıfta bulunur. Düzgün bir şekilde tamamlandıktan sonra hastaların isimleri veri tabanından kaldırıldı. Tüm süreç aşağıdaki gibi dört dosya içerir:"
   ]
  },
  {
   "cell_type": "markdown",
   "metadata": {
    "id": "QzqeTltDuaur"
   },
   "source": [
    "## *Veri Setinin İçeriği*\n",
    "\n",
    "---\n",
    "\n"
   ]
  },
  {
   "cell_type": "markdown",
   "metadata": {
    "id": "oEDXsKlOufpj"
   },
   "source": [
    "Veri örnek sayısı: 350   \n",
    "Öznitelik sayısı: 21\n",
    "\n",
    "Özniteliği eksik veri sayısı: 18 (yaş özniteliği eksik). Eksik veriler boşluk ile temsil edilmiştir."
   ]
  },
  {
   "cell_type": "markdown",
   "metadata": {
    "id": "7AU42TlDvktM"
   },
   "source": [
    "### Öznitelik Bilgileri:\n",
    "\n",
    "---\n",
    "\n"
   ]
  },
  {
   "cell_type": "markdown",
   "metadata": {
    "id": "jrW05XV1vtdr"
   },
   "source": [
    "**Öznitelikler:**\n",
    "\n",
    "*   1: age\n",
    "*   2: sex: (1 kadın , 0 erkek)\n",
    "*   3: smoke: (0=Hayır, 1=Evet)\n",
    "*   4: years: (Sigara içiyorsa, sigara içilen yıl sayısı)\n",
    "*   5: ldl: (Hastanın LDL-Kolesterol oranı)\n",
    "*   6: chp: Göğüs ağrısı tipi (1=Tipik angina, 2=Atipik angina, 3=Anjinal olmayan ağrı, 4=Asemptomatik).\n",
    "*   7: height: Hastanın cm cinsinden boyu \n",
    "*   8: weight: Hastaların kg cinsinden ağırlığı.\n",
    "*   9: fh: Ailede kalp hastalığı öyküsü.\n",
    "*   10: active: Hastanın aktif olup olmadığı (0=Hayır, 1=Evet).\n",
    "*   11: lifestyle: Yaşanılan yer (1=Şehir, 2=Kasaba, 3=Köy).\n",
    "*   12: ihd: Hastanın herhangi bir kalp kateterizasyonu veya kalbe herhangi bir müdahalesi var mı? (0=Hayır, 1=Evet).\n",
    "*   13: hr: Nabız oranı.\n",
    "*   14: dm: Hastanın diyabeti var mı (0=Hayır, 1=Evet).\n",
    "*   15: bpsys: Sistolik Kan Basıncı oranı.\n",
    "*   16: bpdias: Kan Basıncının Diyastolik Oranı.\n",
    "*   17: htn: Hastada hipertansiyon var mı (0=Hayır, 1=Evet).\n",
    "*   18: ivsd: Bir Yankı parametresi (İnterventriküler Sepal ve Diyastol).\n",
    "*   19: ecgpatt: EKG testinin dört kategorisini içerir: (1=ST-Elevation, 2=ST-Depression, 3=T-Inversion, 4=Normal).\n",
    "*   20: qwave: Q dalgasının varlığı (0=Hayır, 1=Evet)"
   ]
  },
  {
   "cell_type": "markdown",
   "metadata": {
    "id": "XMsjxJQIxoPt"
   },
   "source": [
    "**Sınıf Bilgisi: (0,1) değerlerini alır**\n",
    "*   21 : target (class bilgisi): Hastanın kalp hastalığı olup olmadığı (0=kalp hastalığı yok, 1=kalp hastalığı var)."
   ]
  },
  {
   "cell_type": "markdown",
   "metadata": {
    "id": "C0K8iUVshM5X"
   },
   "source": [
    "## *Data üzerinde işlem yapması*\n",
    "\n",
    "---\n",
    "\n"
   ]
  },
  {
   "cell_type": "markdown",
   "metadata": {
    "id": "fZReg7nvhbjy"
   },
   "source": [
    "### Dataseti çağırmak\n",
    "\n",
    "---\n",
    "\n"
   ]
  },
  {
   "cell_type": "code",
   "execution_count": 1,
   "metadata": {
    "colab": {
     "base_uri": "https://localhost:8080/",
     "height": 253
    },
    "id": "t9y_7Tcqx38D",
    "outputId": "04f12606-93fa-4665-b9d6-19567403d92b"
   },
   "outputs": [],
   "source": [
    "import numpy as np\n",
    "import pandas as pd\n",
    "import matplotlib.pyplot as plt\n",
    "import category_encoders as ce\n",
    "from sklearn import preprocessing\n",
    "from matplotlib.ticker import NullFormatter\n",
    "from fast_ml.model_development import train_valid_test_split\n",
    "from sklearn.feature_selection import SelectKBest\n",
    "from sklearn.feature_selection import f_classif\n",
    "%matplotlib inline"
   ]
  },
  {
   "cell_type": "code",
   "execution_count": 2,
   "metadata": {},
   "outputs": [
    {
     "name": "stdout",
     "output_type": "stream",
     "text": [
      "Veri seti örneği:\n"
     ]
    },
    {
     "data": {
      "text/html": [
       "<div>\n",
       "<style scoped>\n",
       "    .dataframe tbody tr th:only-of-type {\n",
       "        vertical-align: middle;\n",
       "    }\n",
       "\n",
       "    .dataframe tbody tr th {\n",
       "        vertical-align: top;\n",
       "    }\n",
       "\n",
       "    .dataframe thead th {\n",
       "        text-align: right;\n",
       "    }\n",
       "</style>\n",
       "<table border=\"1\" class=\"dataframe\">\n",
       "  <thead>\n",
       "    <tr style=\"text-align: right;\">\n",
       "      <th></th>\n",
       "      <th>age</th>\n",
       "      <th>sex</th>\n",
       "      <th>smoke</th>\n",
       "      <th>years</th>\n",
       "      <th>ldl</th>\n",
       "      <th>chp</th>\n",
       "      <th>height</th>\n",
       "      <th>weight</th>\n",
       "      <th>fh</th>\n",
       "      <th>active</th>\n",
       "      <th>...</th>\n",
       "      <th>ihd</th>\n",
       "      <th>hr</th>\n",
       "      <th>dm</th>\n",
       "      <th>bpsys</th>\n",
       "      <th>bpdias</th>\n",
       "      <th>htn</th>\n",
       "      <th>ivsd</th>\n",
       "      <th>ecgpatt</th>\n",
       "      <th>qwave</th>\n",
       "      <th>target</th>\n",
       "    </tr>\n",
       "  </thead>\n",
       "  <tbody>\n",
       "    <tr>\n",
       "      <th>0</th>\n",
       "      <td>65.0</td>\n",
       "      <td>0</td>\n",
       "      <td>0</td>\n",
       "      <td>0</td>\n",
       "      <td>69.0</td>\n",
       "      <td>4</td>\n",
       "      <td>168</td>\n",
       "      <td>111.0</td>\n",
       "      <td>1</td>\n",
       "      <td>0</td>\n",
       "      <td>...</td>\n",
       "      <td>1</td>\n",
       "      <td>98</td>\n",
       "      <td>1</td>\n",
       "      <td>120</td>\n",
       "      <td>80</td>\n",
       "      <td>1</td>\n",
       "      <td>0</td>\n",
       "      <td>4</td>\n",
       "      <td>0</td>\n",
       "      <td>0</td>\n",
       "    </tr>\n",
       "    <tr>\n",
       "      <th>1</th>\n",
       "      <td>54.0</td>\n",
       "      <td>1</td>\n",
       "      <td>0</td>\n",
       "      <td>0</td>\n",
       "      <td>117.0</td>\n",
       "      <td>2</td>\n",
       "      <td>145</td>\n",
       "      <td>81.0</td>\n",
       "      <td>0</td>\n",
       "      <td>0</td>\n",
       "      <td>...</td>\n",
       "      <td>0</td>\n",
       "      <td>85</td>\n",
       "      <td>0</td>\n",
       "      <td>130</td>\n",
       "      <td>80</td>\n",
       "      <td>0</td>\n",
       "      <td>0</td>\n",
       "      <td>4</td>\n",
       "      <td>0</td>\n",
       "      <td>0</td>\n",
       "    </tr>\n",
       "    <tr>\n",
       "      <th>2</th>\n",
       "      <td>61.0</td>\n",
       "      <td>0</td>\n",
       "      <td>1</td>\n",
       "      <td>45</td>\n",
       "      <td>86.2</td>\n",
       "      <td>2</td>\n",
       "      <td>160</td>\n",
       "      <td>72.0</td>\n",
       "      <td>0</td>\n",
       "      <td>0</td>\n",
       "      <td>...</td>\n",
       "      <td>0</td>\n",
       "      <td>63</td>\n",
       "      <td>1</td>\n",
       "      <td>150</td>\n",
       "      <td>70</td>\n",
       "      <td>1</td>\n",
       "      <td>0</td>\n",
       "      <td>2</td>\n",
       "      <td>0</td>\n",
       "      <td>1</td>\n",
       "    </tr>\n",
       "    <tr>\n",
       "      <th>3</th>\n",
       "      <td>57.0</td>\n",
       "      <td>0</td>\n",
       "      <td>0</td>\n",
       "      <td>0</td>\n",
       "      <td>76.0</td>\n",
       "      <td>2</td>\n",
       "      <td>176</td>\n",
       "      <td>78.0</td>\n",
       "      <td>1</td>\n",
       "      <td>0</td>\n",
       "      <td>...</td>\n",
       "      <td>1</td>\n",
       "      <td>74</td>\n",
       "      <td>1</td>\n",
       "      <td>120</td>\n",
       "      <td>70</td>\n",
       "      <td>0</td>\n",
       "      <td>0</td>\n",
       "      <td>3</td>\n",
       "      <td>0</td>\n",
       "      <td>1</td>\n",
       "    </tr>\n",
       "    <tr>\n",
       "      <th>4</th>\n",
       "      <td>62.0</td>\n",
       "      <td>1</td>\n",
       "      <td>0</td>\n",
       "      <td>0</td>\n",
       "      <td>160.0</td>\n",
       "      <td>3</td>\n",
       "      <td>154</td>\n",
       "      <td>61.0</td>\n",
       "      <td>0</td>\n",
       "      <td>0</td>\n",
       "      <td>...</td>\n",
       "      <td>0</td>\n",
       "      <td>89</td>\n",
       "      <td>1</td>\n",
       "      <td>110</td>\n",
       "      <td>70</td>\n",
       "      <td>0</td>\n",
       "      <td>0</td>\n",
       "      <td>1</td>\n",
       "      <td>0</td>\n",
       "      <td>1</td>\n",
       "    </tr>\n",
       "  </tbody>\n",
       "</table>\n",
       "<p>5 rows × 21 columns</p>\n",
       "</div>"
      ],
      "text/plain": [
       "    age  sex  smoke  years    ldl  chp  height  weight  fh  active  ...  ihd  \\\n",
       "0  65.0    0      0      0   69.0    4     168   111.0   1       0  ...    1   \n",
       "1  54.0    1      0      0  117.0    2     145    81.0   0       0  ...    0   \n",
       "2  61.0    0      1     45   86.2    2     160    72.0   0       0  ...    0   \n",
       "3  57.0    0      0      0   76.0    2     176    78.0   1       0  ...    1   \n",
       "4  62.0    1      0      0  160.0    3     154    61.0   0       0  ...    0   \n",
       "\n",
       "   hr  dm  bpsys  bpdias  htn  ivsd  ecgpatt  qwave  target  \n",
       "0  98   1    120      80    1     0        4      0       0  \n",
       "1  85   0    130      80    0     0        4      0       0  \n",
       "2  63   1    150      70    1     0        2      0       1  \n",
       "3  74   1    120      70    0     0        3      0       1  \n",
       "4  89   1    110      70    0     0        1      0       1  \n",
       "\n",
       "[5 rows x 21 columns]"
      ]
     },
     "execution_count": 2,
     "metadata": {},
     "output_type": "execute_result"
    }
   ],
   "source": [
    "df = pd.read_csv('Dataset.csv')\n",
    "print(\"Veri seti örneği:\")\n",
    "df.head()"
   ]
  },
  {
   "cell_type": "markdown",
   "metadata": {
    "id": "NqikDmeVhhzN"
   },
   "source": [
    "### Eksik veri kontrolu ve tamamlanması\n",
    "\n",
    "---\n",
    "\n"
   ]
  },
  {
   "cell_type": "markdown",
   "metadata": {
    "id": "YaW_yRMfnfUB"
   },
   "source": [
    "Buradaki yaptığım işlem dataseti hedef sınıfına göre ayırdım, ondan sonra her sınıfın 34 sütünün ortalaması hesaplayıp boş olan değerlere atadım"
   ]
  },
  {
   "cell_type": "code",
   "execution_count": 3,
   "metadata": {
    "colab": {
     "base_uri": "https://localhost:8080/"
    },
    "id": "lBdvsJswh_P_",
    "outputId": "3283f2e2-14cd-4bf0-cb88-3b9804c4d9f6"
   },
   "outputs": [
    {
     "data": {
      "text/plain": [
       "True"
      ]
     },
     "execution_count": 3,
     "metadata": {},
     "output_type": "execute_result"
    }
   ],
   "source": [
    "df.isnull().values.any()"
   ]
  },
  {
   "cell_type": "code",
   "execution_count": 4,
   "metadata": {
    "colab": {
     "base_uri": "https://localhost:8080/",
     "height": 1000
    },
    "id": "YGD9UqefpjJ7",
    "outputId": "15473627-083a-4cb1-b2a7-229eba092bab"
   },
   "outputs": [
    {
     "data": {
      "text/html": [
       "<div>\n",
       "<style scoped>\n",
       "    .dataframe tbody tr th:only-of-type {\n",
       "        vertical-align: middle;\n",
       "    }\n",
       "\n",
       "    .dataframe tbody tr th {\n",
       "        vertical-align: top;\n",
       "    }\n",
       "\n",
       "    .dataframe thead th {\n",
       "        text-align: right;\n",
       "    }\n",
       "</style>\n",
       "<table border=\"1\" class=\"dataframe\">\n",
       "  <thead>\n",
       "    <tr style=\"text-align: right;\">\n",
       "      <th></th>\n",
       "      <th>age</th>\n",
       "      <th>sex</th>\n",
       "      <th>smoke</th>\n",
       "      <th>years</th>\n",
       "      <th>ldl</th>\n",
       "      <th>chp</th>\n",
       "      <th>height</th>\n",
       "      <th>weight</th>\n",
       "      <th>fh</th>\n",
       "      <th>active</th>\n",
       "      <th>...</th>\n",
       "      <th>ihd</th>\n",
       "      <th>hr</th>\n",
       "      <th>dm</th>\n",
       "      <th>bpsys</th>\n",
       "      <th>bpdias</th>\n",
       "      <th>htn</th>\n",
       "      <th>ivsd</th>\n",
       "      <th>ecgpatt</th>\n",
       "      <th>qwave</th>\n",
       "      <th>target</th>\n",
       "    </tr>\n",
       "  </thead>\n",
       "  <tbody>\n",
       "    <tr>\n",
       "      <th>0</th>\n",
       "      <td>65.0</td>\n",
       "      <td>0</td>\n",
       "      <td>0</td>\n",
       "      <td>0</td>\n",
       "      <td>69.0</td>\n",
       "      <td>4</td>\n",
       "      <td>168</td>\n",
       "      <td>111.0</td>\n",
       "      <td>1</td>\n",
       "      <td>0</td>\n",
       "      <td>...</td>\n",
       "      <td>1</td>\n",
       "      <td>98</td>\n",
       "      <td>1</td>\n",
       "      <td>120</td>\n",
       "      <td>80</td>\n",
       "      <td>1</td>\n",
       "      <td>0</td>\n",
       "      <td>4</td>\n",
       "      <td>0</td>\n",
       "      <td>0</td>\n",
       "    </tr>\n",
       "    <tr>\n",
       "      <th>1</th>\n",
       "      <td>54.0</td>\n",
       "      <td>1</td>\n",
       "      <td>0</td>\n",
       "      <td>0</td>\n",
       "      <td>117.0</td>\n",
       "      <td>2</td>\n",
       "      <td>145</td>\n",
       "      <td>81.0</td>\n",
       "      <td>0</td>\n",
       "      <td>0</td>\n",
       "      <td>...</td>\n",
       "      <td>0</td>\n",
       "      <td>85</td>\n",
       "      <td>0</td>\n",
       "      <td>130</td>\n",
       "      <td>80</td>\n",
       "      <td>0</td>\n",
       "      <td>0</td>\n",
       "      <td>4</td>\n",
       "      <td>0</td>\n",
       "      <td>0</td>\n",
       "    </tr>\n",
       "    <tr>\n",
       "      <th>2</th>\n",
       "      <td>61.0</td>\n",
       "      <td>0</td>\n",
       "      <td>1</td>\n",
       "      <td>45</td>\n",
       "      <td>86.2</td>\n",
       "      <td>2</td>\n",
       "      <td>160</td>\n",
       "      <td>72.0</td>\n",
       "      <td>0</td>\n",
       "      <td>0</td>\n",
       "      <td>...</td>\n",
       "      <td>0</td>\n",
       "      <td>63</td>\n",
       "      <td>1</td>\n",
       "      <td>150</td>\n",
       "      <td>70</td>\n",
       "      <td>1</td>\n",
       "      <td>0</td>\n",
       "      <td>2</td>\n",
       "      <td>0</td>\n",
       "      <td>1</td>\n",
       "    </tr>\n",
       "    <tr>\n",
       "      <th>3</th>\n",
       "      <td>57.0</td>\n",
       "      <td>0</td>\n",
       "      <td>0</td>\n",
       "      <td>0</td>\n",
       "      <td>76.0</td>\n",
       "      <td>2</td>\n",
       "      <td>176</td>\n",
       "      <td>78.0</td>\n",
       "      <td>1</td>\n",
       "      <td>0</td>\n",
       "      <td>...</td>\n",
       "      <td>1</td>\n",
       "      <td>74</td>\n",
       "      <td>1</td>\n",
       "      <td>120</td>\n",
       "      <td>70</td>\n",
       "      <td>0</td>\n",
       "      <td>0</td>\n",
       "      <td>3</td>\n",
       "      <td>0</td>\n",
       "      <td>1</td>\n",
       "    </tr>\n",
       "    <tr>\n",
       "      <th>4</th>\n",
       "      <td>62.0</td>\n",
       "      <td>1</td>\n",
       "      <td>0</td>\n",
       "      <td>0</td>\n",
       "      <td>160.0</td>\n",
       "      <td>3</td>\n",
       "      <td>154</td>\n",
       "      <td>61.0</td>\n",
       "      <td>0</td>\n",
       "      <td>0</td>\n",
       "      <td>...</td>\n",
       "      <td>0</td>\n",
       "      <td>89</td>\n",
       "      <td>1</td>\n",
       "      <td>110</td>\n",
       "      <td>70</td>\n",
       "      <td>0</td>\n",
       "      <td>0</td>\n",
       "      <td>1</td>\n",
       "      <td>0</td>\n",
       "      <td>1</td>\n",
       "    </tr>\n",
       "    <tr>\n",
       "      <th>...</th>\n",
       "      <td>...</td>\n",
       "      <td>...</td>\n",
       "      <td>...</td>\n",
       "      <td>...</td>\n",
       "      <td>...</td>\n",
       "      <td>...</td>\n",
       "      <td>...</td>\n",
       "      <td>...</td>\n",
       "      <td>...</td>\n",
       "      <td>...</td>\n",
       "      <td>...</td>\n",
       "      <td>...</td>\n",
       "      <td>...</td>\n",
       "      <td>...</td>\n",
       "      <td>...</td>\n",
       "      <td>...</td>\n",
       "      <td>...</td>\n",
       "      <td>...</td>\n",
       "      <td>...</td>\n",
       "      <td>...</td>\n",
       "      <td>...</td>\n",
       "    </tr>\n",
       "    <tr>\n",
       "      <th>346</th>\n",
       "      <td>46.0</td>\n",
       "      <td>1</td>\n",
       "      <td>0</td>\n",
       "      <td>0</td>\n",
       "      <td>111.0</td>\n",
       "      <td>4</td>\n",
       "      <td>143</td>\n",
       "      <td>66.5</td>\n",
       "      <td>0</td>\n",
       "      <td>0</td>\n",
       "      <td>...</td>\n",
       "      <td>0</td>\n",
       "      <td>107</td>\n",
       "      <td>0</td>\n",
       "      <td>150</td>\n",
       "      <td>90</td>\n",
       "      <td>1</td>\n",
       "      <td>1</td>\n",
       "      <td>1</td>\n",
       "      <td>0</td>\n",
       "      <td>0</td>\n",
       "    </tr>\n",
       "    <tr>\n",
       "      <th>347</th>\n",
       "      <td>42.0</td>\n",
       "      <td>0</td>\n",
       "      <td>1</td>\n",
       "      <td>17</td>\n",
       "      <td>164.0</td>\n",
       "      <td>2</td>\n",
       "      <td>164</td>\n",
       "      <td>79.0</td>\n",
       "      <td>1</td>\n",
       "      <td>1</td>\n",
       "      <td>...</td>\n",
       "      <td>0</td>\n",
       "      <td>112</td>\n",
       "      <td>0</td>\n",
       "      <td>110</td>\n",
       "      <td>70</td>\n",
       "      <td>0</td>\n",
       "      <td>0</td>\n",
       "      <td>1</td>\n",
       "      <td>0</td>\n",
       "      <td>0</td>\n",
       "    </tr>\n",
       "    <tr>\n",
       "      <th>348</th>\n",
       "      <td>51.0</td>\n",
       "      <td>0</td>\n",
       "      <td>0</td>\n",
       "      <td>0</td>\n",
       "      <td>116.0</td>\n",
       "      <td>4</td>\n",
       "      <td>180</td>\n",
       "      <td>92.0</td>\n",
       "      <td>0</td>\n",
       "      <td>1</td>\n",
       "      <td>...</td>\n",
       "      <td>0</td>\n",
       "      <td>81</td>\n",
       "      <td>0</td>\n",
       "      <td>105</td>\n",
       "      <td>80</td>\n",
       "      <td>1</td>\n",
       "      <td>0</td>\n",
       "      <td>4</td>\n",
       "      <td>0</td>\n",
       "      <td>0</td>\n",
       "    </tr>\n",
       "    <tr>\n",
       "      <th>349</th>\n",
       "      <td>45.0</td>\n",
       "      <td>1</td>\n",
       "      <td>0</td>\n",
       "      <td>0</td>\n",
       "      <td>102.0</td>\n",
       "      <td>3</td>\n",
       "      <td>166</td>\n",
       "      <td>79.0</td>\n",
       "      <td>0</td>\n",
       "      <td>0</td>\n",
       "      <td>...</td>\n",
       "      <td>0</td>\n",
       "      <td>96</td>\n",
       "      <td>0</td>\n",
       "      <td>110</td>\n",
       "      <td>70</td>\n",
       "      <td>0</td>\n",
       "      <td>0</td>\n",
       "      <td>4</td>\n",
       "      <td>0</td>\n",
       "      <td>0</td>\n",
       "    </tr>\n",
       "    <tr>\n",
       "      <th>350</th>\n",
       "      <td>68.0</td>\n",
       "      <td>1</td>\n",
       "      <td>0</td>\n",
       "      <td>0</td>\n",
       "      <td>92.0</td>\n",
       "      <td>2</td>\n",
       "      <td>165</td>\n",
       "      <td>80.0</td>\n",
       "      <td>1</td>\n",
       "      <td>0</td>\n",
       "      <td>...</td>\n",
       "      <td>0</td>\n",
       "      <td>68</td>\n",
       "      <td>0</td>\n",
       "      <td>115</td>\n",
       "      <td>75</td>\n",
       "      <td>1</td>\n",
       "      <td>0</td>\n",
       "      <td>4</td>\n",
       "      <td>0</td>\n",
       "      <td>0</td>\n",
       "    </tr>\n",
       "  </tbody>\n",
       "</table>\n",
       "<p>333 rows × 21 columns</p>\n",
       "</div>"
      ],
      "text/plain": [
       "      age  sex  smoke  years    ldl  chp  height  weight  fh  active  ...  \\\n",
       "0    65.0    0      0      0   69.0    4     168   111.0   1       0  ...   \n",
       "1    54.0    1      0      0  117.0    2     145    81.0   0       0  ...   \n",
       "2    61.0    0      1     45   86.2    2     160    72.0   0       0  ...   \n",
       "3    57.0    0      0      0   76.0    2     176    78.0   1       0  ...   \n",
       "4    62.0    1      0      0  160.0    3     154    61.0   0       0  ...   \n",
       "..    ...  ...    ...    ...    ...  ...     ...     ...  ..     ...  ...   \n",
       "346  46.0    1      0      0  111.0    4     143    66.5   0       0  ...   \n",
       "347  42.0    0      1     17  164.0    2     164    79.0   1       1  ...   \n",
       "348  51.0    0      0      0  116.0    4     180    92.0   0       1  ...   \n",
       "349  45.0    1      0      0  102.0    3     166    79.0   0       0  ...   \n",
       "350  68.0    1      0      0   92.0    2     165    80.0   1       0  ...   \n",
       "\n",
       "     ihd   hr  dm  bpsys  bpdias  htn  ivsd  ecgpatt  qwave  target  \n",
       "0      1   98   1    120      80    1     0        4      0       0  \n",
       "1      0   85   0    130      80    0     0        4      0       0  \n",
       "2      0   63   1    150      70    1     0        2      0       1  \n",
       "3      1   74   1    120      70    0     0        3      0       1  \n",
       "4      0   89   1    110      70    0     0        1      0       1  \n",
       "..   ...  ...  ..    ...     ...  ...   ...      ...    ...     ...  \n",
       "346    0  107   0    150      90    1     1        1      0       0  \n",
       "347    0  112   0    110      70    0     0        1      0       0  \n",
       "348    0   81   0    105      80    1     0        4      0       0  \n",
       "349    0   96   0    110      70    0     0        4      0       0  \n",
       "350    0   68   0    115      75    1     0        4      0       0  \n",
       "\n",
       "[333 rows x 21 columns]"
      ]
     },
     "execution_count": 4,
     "metadata": {},
     "output_type": "execute_result"
    }
   ],
   "source": [
    "df = df.dropna()\n",
    "df"
   ]
  },
  {
   "cell_type": "markdown",
   "metadata": {
    "id": "VHq-wcdFqNbC"
   },
   "source": [
    "### Özniteliklerin sınıflamadaki ayırt ediciliklerinin hesaplanması:\n",
    "\n",
    "---\n",
    "\n"
   ]
  },
  {
   "cell_type": "code",
   "execution_count": 5,
   "metadata": {
    "id": "U7j2p8T7qSiA"
   },
   "outputs": [],
   "source": [
    "from sklearn.feature_selection import SelectKBest\n",
    "from sklearn.feature_selection import f_classif\n",
    "array = df.values\n",
    "X = array[:,0:20]\n",
    "Y = array[:,20]\n",
    "# feature extraction\n",
    "test = SelectKBest(score_func=f_classif, k='all')\n",
    "fit = test.fit(X, Y)\n",
    "# summarize scores\n",
    "np.set_printoptions(precision=3)\n",
    "features = fit.transform(X)"
   ]
  },
  {
   "cell_type": "markdown",
   "metadata": {
    "id": "NPV8Ftg9q-z_"
   },
   "source": [
    "Kolay okunması için büyükten küçüğe sıralayacağım:"
   ]
  },
  {
   "cell_type": "code",
   "execution_count": 6,
   "metadata": {
    "colab": {
     "base_uri": "https://localhost:8080/"
    },
    "id": "OY9uqa-1qsYz",
    "outputId": "8832b049-1c18-4a22-b677-17367022b19d"
   },
   "outputs": [
    {
     "name": "stdout",
     "output_type": "stream",
     "text": [
      "Feature Importances:\n",
      "\n",
      "hr:         0.7461234232795414\n",
      "sex:        0.10955774412687547\n",
      "htn:        0.053694655223828276\n",
      "chp:        0.028891474200243034\n",
      "bpdias:     0.025738421944040895\n",
      "ivsd:       0.008029896516294224\n",
      "bpsys:      0.008021157414321833\n",
      "smoke:      0.004864994617797069\n",
      "ldl:        0.00434391552477463\n",
      "years:      0.00210627235648458\n",
      "fh:         0.0020648438807396967\n",
      "weight:     0.0018241179903409161\n",
      "height:     0.0013291344402447118\n",
      "lifestyle:  0.0013039661008417275\n",
      "dm:         0.0006236208480725152\n",
      "active:     0.0004603499284436999\n",
      "ihd:        0.0004585573261552263\n",
      "age:        0.00039894995254545165\n",
      "qwave:      0.00010996051049576378\n",
      "ecgpatt:    5.45438179189075e-05\n"
     ]
    }
   ],
   "source": [
    "scores = fit.scores_\n",
    "feature_numbers = scores.argsort()\n",
    "sorted_scores = np.sort(scores)[::-1] / scores.sum()\n",
    "\n",
    "print(\"Feature Importances:\\n\")\n",
    "for i in range(len(scores)):  \n",
    "    print('{0:12}{1}'.format(df.columns[feature_numbers[i]] +  ':', sorted_scores[i]))"
   ]
  },
  {
   "cell_type": "markdown",
   "metadata": {
    "id": "mYCptUT_rK2l"
   },
   "source": [
    "sonucunda: 0.0001'den düşük ayırt edicilik skoruna sahip olan feature ecgpatt değerlerinin veriden çıkartılmasına karar aldım."
   ]
  },
  {
   "cell_type": "code",
   "execution_count": 7,
   "metadata": {
    "colab": {
     "base_uri": "https://localhost:8080/",
     "height": 235
    },
    "id": "gVdtA8BwrUML",
    "outputId": "308db0e7-219e-447d-8b1a-5c206f4a88f2"
   },
   "outputs": [],
   "source": [
    "df = df.drop([\"ecgpatt\"], axis=1) "
   ]
  },
  {
   "cell_type": "markdown",
   "metadata": {
    "id": "VwDRSRoHCnIU"
   },
   "source": [
    "# **Sınıflama**"
   ]
  },
  {
   "cell_type": "markdown",
   "metadata": {
    "id": "ZNIdWK4wGnMc"
   },
   "source": [
    "### Kütüphaneleri çağırmak\n",
    "\n",
    "---\n",
    "\n"
   ]
  },
  {
   "cell_type": "code",
   "execution_count": 8,
   "metadata": {
    "id": "7KZ8SLFoCiW4"
   },
   "outputs": [],
   "source": [
    "from sklearn.metrics import classification_report\n",
    "from sklearn.metrics import confusion_matrix\n",
    "from sklearn.metrics import accuracy_score\n",
    "from sklearn.neighbors import KNeighborsClassifier\n",
    "from sklearn.svm import SVC\n",
    "from sklearn.naive_bayes import GaussianNB\n",
    "from sklearn.model_selection import train_test_split\n",
    "from sklearn.metrics import plot_confusion_matrix\n",
    "import matplotlib.pyplot as plt\n",
    "from fast_ml.model_development import train_valid_test_split\n",
    "from sklearn.naive_bayes import MultinomialNB"
   ]
  },
  {
   "cell_type": "markdown",
   "metadata": {
    "id": "rQSFoS5FGuOt"
   },
   "source": [
    "### Veri öğrenme ve veri test grublara ayırmak\n",
    "\n",
    "---\n",
    "\n"
   ]
  },
  {
   "cell_type": "code",
   "execution_count": 47,
   "metadata": {
    "id": "qe4f2BvaC4YE"
   },
   "outputs": [
    {
     "name": "stdout",
     "output_type": "stream",
     "text": [
      "(283, 19)\n",
      "(283,)\n",
      "(50, 19)\n",
      "(50,)\n"
     ]
    }
   ],
   "source": [
    "X = df.drop(columns = ['target']).copy()\n",
    "y = df['target']\n",
    "X_train, X_test, y_train, y_test = train_test_split(X, y, test_size=0.15)\n",
    "\n",
    "print(X_train.shape)\n",
    "print(y_train.shape)\n",
    "print(X_test.shape)\n",
    "print(y_test.shape)"
   ]
  },
  {
   "cell_type": "markdown",
   "metadata": {
    "id": "whrPO0pfG2rU"
   },
   "source": [
    "### Veri öğrenme grubu modelleme\n",
    "\n",
    "---\n",
    "\n"
   ]
  },
  {
   "cell_type": "code",
   "execution_count": 48,
   "metadata": {
    "id": "VuKd60arDJDX"
   },
   "outputs": [],
   "source": [
    "Gaussian_model = GaussianNB()\n",
    "SVC_model = SVC()\n",
    "KNN_model = KNeighborsClassifier(n_neighbors=3)\n",
    "MNB_model = MultinomialNB()\n",
    "\n",
    "Gaussian_model.fit(X_train, y_train)\n",
    "SVC_model.fit(X_train, y_train)\n",
    "KNN_model.fit(X_train, y_train)\n",
    "MNB_model.fit(X_train, y_train)\n",
    "\n",
    "Gaussian_prediction = Gaussian_model.predict(X_test)\n",
    "SVC_prediction = SVC_model.predict(X_test)\n",
    "KNN_prediction = KNN_model.predict(X_test)\n",
    "MNB_prediction = MNB_model.predict(X_test)"
   ]
  },
  {
   "cell_type": "markdown",
   "metadata": {
    "id": "c246N5bgHSho"
   },
   "source": [
    "### Başarı oranı yazdırma\n",
    "\n",
    "---\n",
    "\n"
   ]
  },
  {
   "cell_type": "code",
   "execution_count": 49,
   "metadata": {
    "colab": {
     "base_uri": "https://localhost:8080/"
    },
    "id": "JOi2iakbDRbh",
    "outputId": "451b80ed-23a4-491f-9a09-c12a67127bf4"
   },
   "outputs": [
    {
     "name": "stdout",
     "output_type": "stream",
     "text": [
      "SVC accuracy        : 60.00%\n",
      "KNN accuracy        : 56.00%\n",
      "GaussianNB accuracy : 68.00%\n",
      "Naive Bayes accuracy: 66.00%\n"
     ]
    }
   ],
   "source": [
    "# Doğruluk puanı değerlendirmenin en basit yoludur\n",
    "print(f'SVC accuracy        : {100*(accuracy_score(SVC_prediction, y_test)):.2f}%')\n",
    "print(f'KNN accuracy        : {100*(accuracy_score(KNN_prediction, y_test)):.2f}%')\n",
    "print(f'GaussianNB accuracy : {100*(accuracy_score(Gaussian_prediction, y_test)):.2f}%')\n",
    "print(f'Naive Bayes accuracy: {100*(accuracy_score(MNB_prediction, y_test)):.2f}%')"
   ]
  },
  {
   "cell_type": "markdown",
   "metadata": {
    "id": "Wa8aoMJ1HjMK"
   },
   "source": [
    "### Cross-Validation uygulamak\n",
    "\n",
    "---\n",
    "\n"
   ]
  },
  {
   "cell_type": "code",
   "execution_count": 12,
   "metadata": {
    "id": "SxHJrLeZE4dZ"
   },
   "outputs": [
    {
     "name": "stdout",
     "output_type": "stream",
     "text": [
      "SVC cross-validation accuracy        : 64.57%\n",
      "KNN cross-validation accuracy        : 59.76%\n",
      "GaussianNB cross-validation accuracy : 72.38%\n",
      "Naive Bayes cross-validation accuracy: 67.57%\n"
     ]
    }
   ],
   "source": [
    "from sklearn.model_selection import cross_val_score\n",
    "\n",
    "scores_SVC = cross_val_score(SVC_model, X, y, cv=4, scoring='accuracy')\n",
    "scores_KNN = cross_val_score(KNN_model, X, y, cv=9, scoring='accuracy')\n",
    "scores_Gaussian = cross_val_score(Gaussian_model, X, y, cv=4, scoring='accuracy')\n",
    "scores_MNB = cross_val_score(MNB_model, X, y, cv=5, scoring='accuracy')\n",
    "\n",
    "print(f'SVC cross-validation accuracy        : {100*(scores_SVC.mean()):.2f}%')\n",
    "print(f'KNN cross-validation accuracy        : {100*(scores_KNN.mean()):.2f}%')\n",
    "print(f'GaussianNB cross-validation accuracy : {100*(scores_Gaussian.mean()):.2f}%')\n",
    "print(f'Naive Bayes cross-validation accuracy: {100*(scores_MNB.mean()):.2f}%')"
   ]
  },
  {
   "cell_type": "markdown",
   "metadata": {
    "id": "s4S9jXcqH9uK"
   },
   "source": [
    "### Sonuç\n",
    "\n",
    "---\n",
    "\n"
   ]
  },
  {
   "cell_type": "markdown",
   "metadata": {
    "id": "JLZmE5qFIBsN"
   },
   "source": [
    "Öğrettiğim 4 modüllerden en başarılı modülü GaussianNB Modülü\n",
    "\n",
    "Cross-Validation uygulandığında da en başarılı modülü GaussianNB Modülü"
   ]
  },
  {
   "cell_type": "code",
   "execution_count": 13,
   "metadata": {},
   "outputs": [],
   "source": [
    "def plot_ccm(models):\n",
    "    class_names = [x for x in range(0,2)]\n",
    "    for model in models:\n",
    "        fig, ax = plt.subplots(figsize=(10, 10))\n",
    "        disp = plot_confusion_matrix(model, X_test, y_test,\n",
    "                                     display_labels=class_names,\n",
    "                                     cmap=plt.cm.Greens,\n",
    "                                     #normalize=normalize,\n",
    "                                    ax = ax)\n",
    "        disp.ax_.set_title(type(model).__name__ + \" - Confusion matrix\")\n",
    "\n",
    "    plt.show()"
   ]
  },
  {
   "cell_type": "code",
   "execution_count": 14,
   "metadata": {
    "scrolled": true
   },
   "outputs": [
    {
     "data": {
      "image/png": "[encoded data removed]",
      "text/plain": [
       "<Figure size 720x720 with 2 Axes>"
      ]
     },
     "metadata": {
      "needs_background": "light"
     },
     "output_type": "display_data"
    },
    {
     "data": {
      "image/png": "[encoded data removed]",
      "text/plain": [
       "<Figure size 720x720 with 2 Axes>"
      ]
     },
     "metadata": {
      "needs_background": "light"
     },
     "output_type": "display_data"
    },
    {
     "data": {
      "image/png": "[encoded data removed]",
      "text/plain": [
       "<Figure size 720x720 with 2 Axes>"
      ]
     },
     "metadata": {
      "needs_background": "light"
     },
     "output_type": "display_data"
    },
    {
     "data": {
      "image/png": "[encoded data removed]",
      "text/plain": [
       "<Figure size 720x720 with 2 Axes>"
      ]
     },
     "metadata": {
      "needs_background": "light"
     },
     "output_type": "display_data"
    }
   ],
   "source": [
    "plot_ccm([SVC_model, KNN_model, Gaussian_model, MNB_model])"
   ]
  },
  {
   "cell_type": "markdown",
   "metadata": {
    "id": "AchQiSPsFf9X"
   },
   "source": [
    "# **Kümeleme**"
   ]
  },
  {
   "cell_type": "markdown",
   "metadata": {
    "id": "cY0A6Aw4I9lB"
   },
   "source": [
    "### Kümeleme metodleri tanımlama\n",
    "\n",
    "---\n",
    "\n"
   ]
  },
  {
   "cell_type": "markdown",
   "metadata": {
    "id": "qd-LdKMRJJAj"
   },
   "source": [
    "### Kümeleme metodu\n",
    "\n",
    "---\n",
    "\n"
   ]
  },
  {
   "cell_type": "code",
   "execution_count": 15,
   "metadata": {
    "scrolled": true
   },
   "outputs": [],
   "source": [
    "from sklearn.cluster import  AgglomerativeClustering, KMeans\n",
    "\n",
    "features = list(df.columns)[:-1]\n",
    "\n",
    "data = df[features]\n",
    "\n",
    "clustering_kmeans = KMeans(n_clusters=2)\n",
    "data['clusters'] = clustering_kmeans.fit_predict(data)\n"
   ]
  },
  {
   "cell_type": "code",
   "execution_count": 16,
   "metadata": {
    "id": "CICtbctDFqXv"
   },
   "outputs": [
    {
     "data": {
      "image/png": "[encoded data removed]",
      "text/plain": [
       "<Figure size 432x288 with 1 Axes>"
      ]
     },
     "metadata": {
      "needs_background": "light"
     },
     "output_type": "display_data"
    }
   ],
   "source": [
    "import seaborn as sns\n",
    "from sklearn.decomposition import PCA\n",
    "\n",
    "pca_num_components = 2\n",
    "\n",
    "reduced_data = PCA(n_components=pca_num_components).fit_transform(data)\n",
    "results = pd.DataFrame(reduced_data,columns=['qwave','age'])\n",
    "\n",
    "sns.scatterplot(x=\"qwave\", y=\"age\", hue=data['clusters'], data=results)\n",
    "plt.title('K-means Clustering with 2 dimensions')\n",
    "plt.show()"
   ]
  }
 ],
 "metadata": {
  "colab": {
   "collapsed_sections": [
    "rn1TbNWJ0PRw",
    "R_PEuXWStmbb",
    "7AU42TlDvktM",
    "fZReg7nvhbjy",
    "NqikDmeVhhzN"
   ],
   "provenance": []
  },
  "kernelspec": {
   "display_name": "Python 3 (ipykernel)",
   "language": "python",
   "name": "python3"
  },
  "language_info": {
   "codemirror_mode": {
    "name": "ipython",
    "version": 3
   },
   "file_extension": ".py",
   "mimetype": "text/x-python",
   "name": "python",
   "nbconvert_exporter": "python",
   "pygments_lexer": "ipython3",
   "version": "3.9.7"
  }
 },
 "nbformat": 4,
 "nbformat_minor": 1
}
